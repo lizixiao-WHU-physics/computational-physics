{
 "cells": [
  {
   "cell_type": "code",
   "execution_count": 1,
   "metadata": {},
   "outputs": [],
   "source": [
    "import numpy as np\n",
    "from numpy import *\n",
    "from PIL import Image\n",
    "from IPython.display import display,Latex,Math\n",
    "%matplotlib inline\n",
    " \n",
    "from IPython.core.interactiveshell import InteractiveShell\n",
    "sh = InteractiveShell.instance()\n",
    " \n",
    "def number_to_str(n,cut=5):\n",
    "    ns=str(n)\n",
    "    format_='{0:.'+str(cut)+'f}'\n",
    "    if 'e' in ns or ('.' in ns and len(ns)>cut+1):\n",
    "        return format_.format(n)\n",
    "    else:\n",
    "        return str(n)\n",
    " \n",
    "def matrix_to_latex(mat,style='bmatrix'):\n",
    "    if type(mat)==np.matrixlib.defmatrix.matrix:\n",
    "        mat=mat.A\n",
    "    head=r'\\begin{'+style+'}'\n",
    "    tail=r'\\end{'+style+'}'\n",
    "    if len(mat.shape)==1:\n",
    "        body=r'\\\\'.join([str(el) for el in mat])\n",
    "        return head+body+tail\n",
    "    elif len(mat.shape)==2:\n",
    "        lines=[]\n",
    "        for row in mat:\n",
    "            lines.append('&'.join([number_to_str(el)  for el in row])+r'\\\\')\n",
    "        s=head+' '.join(lines)+tail\n",
    "        return s\n",
    "    return None\n",
    " \n",
    "sh.display_formatter.formatters['text/latex'].type_printers[np.ndarray]=matrix_to_latex\n"
   ]
  },
  {
   "cell_type": "code",
   "execution_count": 2,
   "metadata": {},
   "outputs": [],
   "source": [
    "def initialize_v(size):\n",
    "    initial=mat(np.zeros((size+1,size+1)))\n",
    "    initial[int(size*(2/3)):(size+1),int(size/3)]=1\n",
    "    return initial\n",
    "#initializing the matrix, and the size of the matrix determines the resolution\n"
   ]
  },
  {
   "cell_type": "code",
   "execution_count": 3,
   "metadata": {},
   "outputs": [],
   "source": [
    "def update_v(mat):\n",
    "    dv=0\n",
    "    v=mat\n",
    "    row=shape(v)[0]\n",
    "    column=shape(v)[1]\n",
    "    new_v=np.mat(np.zeros((row,column)))\n",
    "    for i in range(row-1):\n",
    "        for j in range(column-1):\n",
    "            if j==0:\n",
    "                new_v[i,j]=0\n",
    "            if i==row and j==0:\n",
    "                new_v[i,j]=(v[i-1,j]+v[i,j+1])/2\n",
    "            if i==row and j!=int(column/3) and j!=column:\n",
    "                new_v[i,j]=(v[i,j-1]+v[i,j+1]+v[i-1,j])/3\n",
    "            if i in range(int(row*(2/3)),row) and j==int(column/3):\n",
    "                new_v[i,j]=v[i,j]\n",
    "            if i in range(1,row-1) and j in range(1,column-1):\n",
    "                if i!=range(int(row*(2/3)),row) and j!=int(column/3):\n",
    "                    new_v[i,j]=(v[i,j-1]+v[i,j+1]+v[i-1,j]+v[i+1,j])/4\n",
    "            if i in range(1,int(row*(2/3))) and j==int(column/3):\n",
    "                new_v[i,j]=(v[i,j-1]+v[i,j+1]+v[i-1,j]+v[i+1,j])/4\n",
    "                \n",
    "    for i in range(row-1):\n",
    "        for j in range(column-1):\n",
    "            if abs(new_v[i,j]-v[i,j])>dv:#record the biggest difference in the matrix\n",
    "                dv=abs(new_v[i,j]-v[i,j])\n",
    "    return new_v,dv  #return two value, one is the new matrix, another is the difference"
   ]
  },
  {
   "cell_type": "code",
   "execution_count": 4,
   "metadata": {
    "scrolled": false
   },
   "outputs": [
    {
     "data": {
      "text/latex": [
       "\\begin{bmatrix}0.0&0.0&0.0&0.0&0.0&0.0&0.0&0.0&0.0&0.0&0.0&0.0&0.0\\\\ 0.0&0.01070&0.02032&0.02771&0.03233&0.03361&0.03220&0.02844&0.02352&0.01774&0.01188&0.00589&0.0\\\\ 0.0&0.02275&0.04307&0.05899&0.06834&0.07101&0.06715&0.05920&0.04826&0.03645&0.02409&0.01202&0.0\\\\ 0.0&0.03742&0.07126&0.09735&0.11290&0.11568&0.10844&0.09373&0.07586&0.05631&0.03719&0.01832&0.0\\\\ 0.0&0.05640&0.10767&0.14829&0.17111&0.17324&0.15830&0.13444&0.10616&0.07803&0.05063&0.02495&0.0\\\\ 0.0&0.08081&0.15635&0.21781&0.25293&0.24906&0.22068&0.18085&0.13964&0.10004&0.06433&0.03124&0.0\\\\ 0.0&0.11132&0.21967&0.31601&0.37477&0.35284&0.29587&0.23249&0.17280&0.12117&0.07621&0.03683&0.0\\\\ 0.0&0.14506&0.29640&0.45249&0.57986&0.49278&0.38107&0.28180&0.20144&0.13674&0.08468&0.04029&0.0\\\\ 0.0&0.17308&0.36873&0.61906&1.0&0.65980&0.45499&0.31557&0.21562&0.14249&0.08625&0.04073&0.0\\\\ 0.0&0.17866&0.38700&0.65524&1.0&0.69200&0.46588&0.31092&0.20576&0.13226&0.07888&0.03676&0.0\\\\ 0.0&0.15476&0.34547&0.61518&1.0&0.64335&0.40629&0.25856&0.16509&0.10380&0.06081&0.02817&0.0\\\\ 0.0&0.09496&0.22512&0.46006&1.0&0.47538&0.25849&0.15251&0.09372&0.05756&0.03337&0.01532&0.0\\\\\\end{bmatrix}"
      ],
      "text/plain": [
       "matrix([[0.        , 0.        , 0.        , 0.        , 0.        ,\n",
       "         0.        , 0.        , 0.        , 0.        , 0.        ,\n",
       "         0.        , 0.        , 0.        ],\n",
       "        [0.        , 0.01069642, 0.02032159, 0.02771191, 0.0323299 ,\n",
       "         0.03360557, 0.03219685, 0.0284403 , 0.0235164 , 0.01774387,\n",
       "         0.01187526, 0.00589367, 0.        ],\n",
       "        [0.        , 0.02275032, 0.04306747, 0.05898947, 0.06834222,\n",
       "         0.07100969, 0.06715437, 0.05919866, 0.04825626, 0.03644833,\n",
       "         0.0240869 , 0.01202022, 0.        ],\n",
       "        [0.        , 0.03742077, 0.07125613, 0.09735092, 0.11289994,\n",
       "         0.11567578, 0.10844164, 0.0937261 , 0.07586156, 0.05630533,\n",
       "         0.03718551, 0.01832486, 0.        ],\n",
       "        [0.        , 0.05640489, 0.10767099, 0.14828609, 0.17111192,\n",
       "         0.17323967, 0.15829976, 0.13443567, 0.10616296, 0.07803079,\n",
       "         0.05062876, 0.02495358, 0.        ],\n",
       "        [0.        , 0.08081223, 0.15635197, 0.217815  , 0.25293059,\n",
       "         0.24905933, 0.22068031, 0.18085303, 0.13963508, 0.1000408 ,\n",
       "         0.06432834, 0.03124434, 0.        ],\n",
       "        [0.        , 0.11132228, 0.21966813, 0.31600912, 0.37477125,\n",
       "         0.3528361 , 0.29587358, 0.23248758, 0.17279742, 0.1211653 ,\n",
       "         0.07620546, 0.03682698, 0.        ],\n",
       "        [0.        , 0.14506132, 0.29639689, 0.45248514, 0.57985821,\n",
       "         0.49277595, 0.38107497, 0.2818049 , 0.20143595, 0.13674357,\n",
       "         0.08467808, 0.04029081, 0.        ],\n",
       "        [0.        , 0.1730823 , 0.36873356, 0.61906334, 1.        ,\n",
       "         0.65979778, 0.45498505, 0.3155696 , 0.21562334, 0.1424873 ,\n",
       "         0.08625149, 0.04073444, 0.        ],\n",
       "        [0.        , 0.17865849, 0.38699843, 0.65524228, 1.        ,\n",
       "         0.6920018 , 0.46588099, 0.31091629, 0.20576441, 0.1322578 ,\n",
       "         0.07888256, 0.03675952, 0.        ],\n",
       "        [0.        , 0.15476296, 0.34547345, 0.61518322, 1.        ,\n",
       "         0.64335468, 0.40628582, 0.25856428, 0.16509361, 0.10380132,\n",
       "         0.06081237, 0.02817146, 0.        ],\n",
       "        [0.        , 0.09495817, 0.22511738, 0.46006202, 1.        ,\n",
       "         0.47538133, 0.25848984, 0.15251388, 0.09371757, 0.05755571,\n",
       "         0.03337246, 0.01531931, 0.        ]])"
      ]
     },
     "execution_count": 4,
     "metadata": {},
     "output_type": "execute_result"
    }
   ],
   "source": [
    "a=update_v(initialize_v(12\n",
    "                       ))\n",
    "for i in range(100):\n",
    "    if a[1]>0.001:\n",
    "        a=update_v(a[0])\n",
    "b=np.delete(a[0],12,0)\n",
    "b"
   ]
  },
  {
   "cell_type": "code",
   "execution_count": 5,
   "metadata": {},
   "outputs": [
    {
     "data": {
      "text/plain": [
       "16"
      ]
     },
     "execution_count": 5,
     "metadata": {},
     "output_type": "execute_result"
    }
   ],
   "source": [
    "a=initialize_v(3)\n",
    "size(a)"
   ]
  },
  {
   "cell_type": "code",
   "execution_count": 6,
   "metadata": {},
   "outputs": [
    {
     "data": {
      "text/latex": [
       "\\begin{bmatrix}0.0&0.0&0.0&0.0&0.0&0.0&0.0&0.0&0.0&1.0&0.0&0.0&0.0&1.0&0.0&0.0\\\\\\end{bmatrix}"
      ],
      "text/plain": [
       "matrix([[0., 0., 0., 0., 0., 0., 0., 0., 0., 1., 0., 0., 0., 1., 0., 0.]])"
      ]
     },
     "execution_count": 6,
     "metadata": {},
     "output_type": "execute_result"
    }
   ],
   "source": [
    "b=a.flatten()\n",
    "b"
   ]
  },
  {
   "cell_type": "code",
   "execution_count": 7,
   "metadata": {},
   "outputs": [],
   "source": []
  },
  {
   "cell_type": "code",
   "execution_count": null,
   "metadata": {},
   "outputs": [],
   "source": []
  },
  {
   "cell_type": "code",
   "execution_count": 13,
   "metadata": {},
   "outputs": [],
   "source": [
    "def matrix_update_v(mat):\n",
    "    vector=mat\n",
    "    dimension1=int(np.sqrt(size(vector)))\n",
    "    dimension2=size(vector)\n",
    "    matrix=np.mat(np.zeros((dimension2,dimension2)))\n",
    "    for i in range(dimension1):\n",
    "        for j in range(dimension2):\n",
    "            if i==j:\n",
    "                matrix[i,j]=1\n",
    "    matrix[4,4]=1\n",
    "    matrix[8,8]=1\n",
    "    matrix[12,12]=1\n",
    "    matrix[7,7]=matrix[11,11]=matrix[15,15]=matrix[9,9]=matrix[13,13]=1\n",
    "    matrix[5,1]=matrix[5,4]=matrix[5,6]=matrix[6,2]=matrix[6,5]=matrix[6,7]=matrix[6,10]=matrix[10,6]=matrix[10,9]=matrix[10,11]=matrix[10,14]=0.25\n",
    "    matrix[14,10]=matrix[14,13]=matrix[14,15]=1/3\n",
    "            \n",
    "            \n",
    "    return matrix"
   ]
  },
  {
   "cell_type": "code",
   "execution_count": 14,
   "metadata": {},
   "outputs": [
    {
     "data": {
      "text/latex": [
       "\\begin{bmatrix}1.0&0.0&0.0&0.0&0.0&0.0&0.0&0.0&0.0&0.0&0.0&0.0&0.0&0.0&0.0&0.0\\\\ 0.0&1.0&0.0&0.0&0.0&0.0&0.0&0.0&0.0&0.0&0.0&0.0&0.0&0.0&0.0&0.0\\\\ 0.0&0.0&1.0&0.0&0.0&0.0&0.0&0.0&0.0&0.0&0.0&0.0&0.0&0.0&0.0&0.0\\\\ 0.0&0.0&0.0&1.0&0.0&0.0&0.0&0.0&0.0&0.0&0.0&0.0&0.0&0.0&0.0&0.0\\\\ 0.0&0.0&0.0&0.0&1.0&0.0&0.0&0.0&0.0&0.0&0.0&0.0&0.0&0.0&0.0&0.0\\\\ 0.0&0.25&0.0&0.0&0.25&0.0&0.25&0.0&0.0&0.0&0.0&0.0&0.0&0.0&0.0&0.0\\\\ 0.0&0.0&0.25&0.0&0.0&0.25&0.0&0.25&0.0&0.0&0.25&0.0&0.0&0.0&0.0&0.0\\\\ 0.0&0.0&0.0&0.0&0.0&0.0&0.0&1.0&0.0&0.0&0.0&0.0&0.0&0.0&0.0&0.0\\\\ 0.0&0.0&0.0&0.0&0.0&0.0&0.0&0.0&1.0&0.0&0.0&0.0&0.0&0.0&0.0&0.0\\\\ 0.0&0.0&0.0&0.0&0.0&0.0&0.0&0.0&0.0&1.0&0.0&0.0&0.0&0.0&0.0&0.0\\\\ 0.0&0.0&0.0&0.0&0.0&0.0&0.25&0.0&0.0&0.25&0.0&0.25&0.0&0.0&0.25&0.0\\\\ 0.0&0.0&0.0&0.0&0.0&0.0&0.0&0.0&0.0&0.0&0.0&1.0&0.0&0.0&0.0&0.0\\\\ 0.0&0.0&0.0&0.0&0.0&0.0&0.0&0.0&0.0&0.0&0.0&0.0&1.0&0.0&0.0&0.0\\\\ 0.0&0.0&0.0&0.0&0.0&0.0&0.0&0.0&0.0&0.0&0.0&0.0&0.0&1.0&0.0&0.0\\\\ 0.0&0.0&0.0&0.0&0.0&0.0&0.0&0.0&0.0&0.0&0.33333&0.0&0.0&0.33333&0.0&0.33333\\\\ 0.0&0.0&0.0&0.0&0.0&0.0&0.0&0.0&0.0&0.0&0.0&0.0&0.0&0.0&0.0&1.0\\\\\\end{bmatrix}"
      ],
      "text/plain": [
       "matrix([[1.        , 0.        , 0.        , 0.        , 0.        ,\n",
       "         0.        , 0.        , 0.        , 0.        , 0.        ,\n",
       "         0.        , 0.        , 0.        , 0.        , 0.        ,\n",
       "         0.        ],\n",
       "        [0.        , 1.        , 0.        , 0.        , 0.        ,\n",
       "         0.        , 0.        , 0.        , 0.        , 0.        ,\n",
       "         0.        , 0.        , 0.        , 0.        , 0.        ,\n",
       "         0.        ],\n",
       "        [0.        , 0.        , 1.        , 0.        , 0.        ,\n",
       "         0.        , 0.        , 0.        , 0.        , 0.        ,\n",
       "         0.        , 0.        , 0.        , 0.        , 0.        ,\n",
       "         0.        ],\n",
       "        [0.        , 0.        , 0.        , 1.        , 0.        ,\n",
       "         0.        , 0.        , 0.        , 0.        , 0.        ,\n",
       "         0.        , 0.        , 0.        , 0.        , 0.        ,\n",
       "         0.        ],\n",
       "        [0.        , 0.        , 0.        , 0.        , 1.        ,\n",
       "         0.        , 0.        , 0.        , 0.        , 0.        ,\n",
       "         0.        , 0.        , 0.        , 0.        , 0.        ,\n",
       "         0.        ],\n",
       "        [0.        , 0.25      , 0.        , 0.        , 0.25      ,\n",
       "         0.        , 0.25      , 0.        , 0.        , 0.        ,\n",
       "         0.        , 0.        , 0.        , 0.        , 0.        ,\n",
       "         0.        ],\n",
       "        [0.        , 0.        , 0.25      , 0.        , 0.        ,\n",
       "         0.25      , 0.        , 0.25      , 0.        , 0.        ,\n",
       "         0.25      , 0.        , 0.        , 0.        , 0.        ,\n",
       "         0.        ],\n",
       "        [0.        , 0.        , 0.        , 0.        , 0.        ,\n",
       "         0.        , 0.        , 1.        , 0.        , 0.        ,\n",
       "         0.        , 0.        , 0.        , 0.        , 0.        ,\n",
       "         0.        ],\n",
       "        [0.        , 0.        , 0.        , 0.        , 0.        ,\n",
       "         0.        , 0.        , 0.        , 1.        , 0.        ,\n",
       "         0.        , 0.        , 0.        , 0.        , 0.        ,\n",
       "         0.        ],\n",
       "        [0.        , 0.        , 0.        , 0.        , 0.        ,\n",
       "         0.        , 0.        , 0.        , 0.        , 1.        ,\n",
       "         0.        , 0.        , 0.        , 0.        , 0.        ,\n",
       "         0.        ],\n",
       "        [0.        , 0.        , 0.        , 0.        , 0.        ,\n",
       "         0.        , 0.25      , 0.        , 0.        , 0.25      ,\n",
       "         0.        , 0.25      , 0.        , 0.        , 0.25      ,\n",
       "         0.        ],\n",
       "        [0.        , 0.        , 0.        , 0.        , 0.        ,\n",
       "         0.        , 0.        , 0.        , 0.        , 0.        ,\n",
       "         0.        , 1.        , 0.        , 0.        , 0.        ,\n",
       "         0.        ],\n",
       "        [0.        , 0.        , 0.        , 0.        , 0.        ,\n",
       "         0.        , 0.        , 0.        , 0.        , 0.        ,\n",
       "         0.        , 0.        , 1.        , 0.        , 0.        ,\n",
       "         0.        ],\n",
       "        [0.        , 0.        , 0.        , 0.        , 0.        ,\n",
       "         0.        , 0.        , 0.        , 0.        , 0.        ,\n",
       "         0.        , 0.        , 0.        , 1.        , 0.        ,\n",
       "         0.        ],\n",
       "        [0.        , 0.        , 0.        , 0.        , 0.        ,\n",
       "         0.        , 0.        , 0.        , 0.        , 0.        ,\n",
       "         0.33333333, 0.        , 0.        , 0.33333333, 0.        ,\n",
       "         0.33333333],\n",
       "        [0.        , 0.        , 0.        , 0.        , 0.        ,\n",
       "         0.        , 0.        , 0.        , 0.        , 0.        ,\n",
       "         0.        , 0.        , 0.        , 0.        , 0.        ,\n",
       "         1.        ]])"
      ]
     },
     "execution_count": 14,
     "metadata": {},
     "output_type": "execute_result"
    }
   ],
   "source": [
    "matrix_update_v(b)"
   ]
  },
  {
   "cell_type": "code",
   "execution_count": 15,
   "metadata": {},
   "outputs": [
    {
     "data": {
      "text/latex": [
       "\\begin{bmatrix}0.0\\\\ 0.0\\\\ 0.0\\\\ 0.0\\\\ 0.0\\\\ 0.02614\\\\ 0.10458\\\\ 0.0\\\\ 0.0\\\\ 1.0\\\\ 0.39216\\\\ 0.0\\\\ 0.0\\\\ 1.0\\\\ 0.46405\\\\ 0.0\\\\\\end{bmatrix}"
      ],
      "text/plain": [
       "matrix([[0.        ],\n",
       "        [0.        ],\n",
       "        [0.        ],\n",
       "        [0.        ],\n",
       "        [0.        ],\n",
       "        [0.02614379],\n",
       "        [0.10457516],\n",
       "        [0.        ],\n",
       "        [0.        ],\n",
       "        [1.        ],\n",
       "        [0.39215686],\n",
       "        [0.        ],\n",
       "        [0.        ],\n",
       "        [1.        ],\n",
       "        [0.46405229],\n",
       "        [0.        ]])"
      ]
     },
     "execution_count": 15,
     "metadata": {},
     "output_type": "execute_result"
    }
   ],
   "source": [
    "\n",
    "d=np.dot(matrix_update_v(b),b.T)\n",
    "for i in range(100):\n",
    "    d=np.dot(matrix_update_v(b),d)\n",
    "d"
   ]
  },
  {
   "cell_type": "code",
   "execution_count": 16,
   "metadata": {
    "scrolled": true
   },
   "outputs": [
    {
     "data": {
      "text/latex": [
       "\\begin{bmatrix}0.0&0.0&0.0&0.0\\\\ 0.0&0.02614&0.10458&0.0\\\\ 0.0&1.0&0.39216&0.0\\\\ 0.0&1.0&0.46405&0.0\\\\\\end{bmatrix}"
      ],
      "text/plain": [
       "matrix([[0.        , 0.        , 0.        , 0.        ],\n",
       "        [0.        , 0.02614379, 0.10457516, 0.        ],\n",
       "        [0.        , 1.        , 0.39215686, 0.        ],\n",
       "        [0.        , 1.        , 0.46405229, 0.        ]])"
      ]
     },
     "execution_count": 16,
     "metadata": {},
     "output_type": "execute_result"
    }
   ],
   "source": [
    "d.reshape(4,4)"
   ]
  },
  {
   "cell_type": "code",
   "execution_count": null,
   "metadata": {},
   "outputs": [],
   "source": [
    "def matrix_update_v2(mat):\n",
    "    vector=mat\n",
    "    dimension1=int(np.sqrt(size(vector)))\n",
    "    dimension2=size(vector)\n",
    "    matrix=np.mat(np.zeros((dimension2,dimension2)))\n",
    "    for i in range(dimension1):\n",
    "        for j in range(dimension2):\n",
    "            if i==j:\n",
    "                matrix[i,j]=1\n",
    "    matrix[4,4]=1\n",
    "    matrix[8,8]=1\n",
    "    matrix[12,12]=1\n",
    "    matrix[7,7]=matrix[11,11]=matrix[15,15]=matrix[9,9]=matrix[13,13]=1\n",
    "    matrix[5,1]=matrix[5,4]=matrix[5,6]=matrix[6,2]=matrix[6,5]=matrix[6,7]=matrix[6,10]=matrix[10,6]=matrix[10,9]=matrix[10,11]=matrix[10,14]=0.25\n",
    "    matrix[14,10]=matrix[14,13]=matrix[14,15]=1/3\n",
    "            \n",
    "            \n",
    "    return matrix"
   ]
  }
 ],
 "metadata": {
  "kernelspec": {
   "display_name": "Python 3",
   "language": "python",
   "name": "python3"
  },
  "language_info": {
   "codemirror_mode": {
    "name": "ipython",
    "version": 3
   },
   "file_extension": ".py",
   "mimetype": "text/x-python",
   "name": "python",
   "nbconvert_exporter": "python",
   "pygments_lexer": "ipython3",
   "version": "3.8.3"
  }
 },
 "nbformat": 4,
 "nbformat_minor": 4
}
