{
 "cells": [
  {
   "cell_type": "code",
   "execution_count": 1,
   "metadata": {},
   "outputs": [
    {
     "name": "stdout",
     "output_type": "stream",
     "text": [
      "step :  0 Cn :  0 Pn :  0.0\n",
      "step :  1 Cn :  0 Pn :  0.0\n",
      "step :  2 Cn :  0 Pn :  0.0\n",
      "step :  3 Cn :  0 Pn :  0.0\n",
      "step :  4 Cn :  0 Pn :  0.0\n",
      "step :  5 Cn :  0 Pn :  0.0\n",
      "step :  6 Cn :  0 Pn :  0.0\n",
      "step :  7 Cn :  0 Pn :  0.0\n",
      "step :  8 Cn :  0 Pn :  0.0\n",
      "step :  9 Cn :  0 Pn :  0.0\n",
      "step :  10 Cn :  0 Pn :  0.0\n",
      "step :  11 Cn :  0 Pn :  0.0\n",
      "step :  12 Cn :  708588 Pn :  1.3333333333333333\n"
     ]
    }
   ],
   "source": [
    "import math\n",
    "total_steps = 12\n",
    "visited = [[False for i in range(total_steps * 2 + 1)] for i in range(total_steps\n",
    "* 2 + 1)]\n",
    "start = [total_steps,total_steps]\n",
    "SAW_count = [0 for i in range(total_steps + 1)]\n",
    "dir = [[-1,0],[0,-1],[0,1],[1,0]]\n",
    "def add(pos,d):\n",
    " return [pos[0] + d[0],pos[1] + d[1]]\n",
    "def do_SAW(n,curr_dir,pos):\n",
    " if visited[pos[0]][pos[1]]:\n",
    "  return\n",
    " if n == total_steps:\n",
    "  SAW_count[n] += 1\n",
    "  return\n",
    "  visited[pos[0]][pos[1]] = True\n",
    "  SAW_count[n] += 1\n",
    "\n",
    "\n",
    " for i in range(4):\n",
    "  if i == 3 - curr_dir:\n",
    "   continue\n",
    "  do_SAW(n + 1,i,add(pos,dir[i]))\n",
    " visited[pos[0]][pos[1]] = False\n",
    "def show_Pn():\n",
    "    do_SAW(0,-1,start)\n",
    "    for i in range(len(SAW_count)):\n",
    "        print(\"step : \",i,\"Cn : \",SAW_count[i],\"Pn : \",SAW_count[i] / 3 ** i)\n",
    "show_Pn()"
   ]
  },
  {
   "cell_type": "code",
   "execution_count": 47,
   "metadata": {},
   "outputs": [
    {
     "name": "stdout",
     "output_type": "stream",
     "text": [
      "0.9095205664243439\n",
      "0.7140275253639562\n",
      "[0.25, 0.2, 0.16666666666666666, 0.14285714285714285, 0.125, 0.1111111111111111, 0.1, 0.09090909090909091, 0.08333333333333333, 0.07692307692307693, 0.07142857142857142]\n"
     ]
    },
    {
     "data": {
      "image/png": "[encoded data removed]",
      "text/plain": [
       "<Figure size 432x288 with 1 Axes>"
      ]
     },
     "metadata": {
      "needs_background": "light"
     },
     "output_type": "display_data"
    }
   ],
   "source": [
    "import math\n",
    "import matplotlib.pyplot as plt\n",
    "import numpy as np\n",
    "total_steps = 15\n",
    "visited = [[False for i in range(total_steps * 2 + 1)] for i in range(total_steps\n",
    "* 2 + 1)]\n",
    "start = [total_steps,total_steps]\n",
    "\n",
    "SAW_count = [0 for i in range(total_steps + 1)]\n",
    "dir = [[-1,0],[0,-1],[0,1],[1,0]]\n",
    "def add(pos,d):\n",
    "    return [pos[0] + d[0],pos[1] + d[1]]\n",
    "def do_SAW(n,curr_dir,pos):\n",
    "    if visited[pos[0]][pos[1]]:\n",
    "        return\n",
    "    if n == total_steps:\n",
    "        SAW_count[n] += 1\n",
    "        return\n",
    "    visited[pos[0]][pos[1]] = True\n",
    "    SAW_count[n] += 1\n",
    "    for i in range(4):\n",
    "        if i == 3 - curr_dir:\n",
    "            continue\n",
    "        do_SAW(n + 1,i,add(pos,dir[i]))\n",
    "    visited[pos[0]][pos[1]] = False\n",
    "    \n",
    "    \n",
    "def linear_regress(x,y):\n",
    " a,b = 0,0\n",
    " a00,a01,a10,a11,b0,b1 = len(x),0,0,0,0,0\n",
    " for i in range(len(x)):\n",
    "  a01 += x[i]\n",
    "  a11 += x[i] ** 2\n",
    "  b0 += y[i]\n",
    "  b1 += y[i] * x[i]\n",
    " a10 = a01\n",
    "\n",
    "\n",
    " deta = a00 * a11 - a01 * a10\n",
    " b = (b0 * a11 - b1 * a01) / deta\n",
    " a = (a00 * b1 - a10 * b0) / deta\n",
    " return a,b\n",
    "\n",
    "\n",
    "def draw_line(a,b,start,end):\n",
    " x = [1/i for i in np.arange(start,end)]\n",
    " y = [a * 1/i + b for i in range(start,end)]\n",
    " plt.plot(x,y)\n",
    " print(a)\n",
    " print(b)\n",
    " print(x)\n",
    "def show_Pn():\n",
    " do_SAW(0,-1,start)\n",
    " x = [1/i for i in range(1,len(SAW_count))]\n",
    " y = [SAW_count[i] / 3 ** i for i in range(1,len(SAW_count))]\n",
    " plt.xlabel('number of steps')\n",
    " plt.ylabel('P(n)')\n",
    " plt.scatter(x,y,color='red')\n",
    " a,b = linear_regress(x,y)\n",
    " draw_line(a,b,4,len(x))\n",
    " plt.show()\n",
    "show_Pn()"
   ]
  },
  {
   "cell_type": "code",
   "execution_count": 43,
   "metadata": {},
   "outputs": [
    {
     "data": {
      "text/html": [
       "<div id=\"glowscript\" class=\"glowscript\"></div>"
      ],
      "text/plain": [
       "<IPython.core.display.HTML object>"
      ]
     },
     "metadata": {},
     "output_type": "display_data"
    },
    {
     "data": {
      "application/javascript": [
       "if (typeof Jupyter !== \"undefined\") { window.__context = { glowscript_container: $(\"#glowscript\").removeAttr(\"id\")};}else{ element.textContent = ' ';}"
      ],
      "text/plain": [
       "<IPython.core.display.Javascript object>"
      ]
     },
     "metadata": {},
     "output_type": "display_data"
    }
   ],
   "source": [
    "import vpython as vpy\n",
    "import math\n",
    "scene = vpy.canvas()\n",
    "c = vpy.curve()\n",
    "def add(v1,v2):\n",
    " return [v1[0] + v2[0],v1[1] + v2[1]]\n",
    "def div(v1,f):\n",
    " return [v1[0] / f,v1[1] / f]\n",
    "\n",
    "def sub(v1,v2):\n",
    " return [v1[0] - v2[0],v1[1] - v2[1]]\n",
    "def rotate(v,angle):\n",
    " ca = math.cos(angle)\n",
    " sa = math.sin(angle)\n",
    " return [v[0] * ca - v[1] * sa,\\\n",
    "v[0] * sa + v[1] * ca]\n",
    "def Knoc(start,end,depth):\n",
    " if depth == 0:\n",
    "  p1 = vpy.vector(start[0],start[1],0)\n",
    "  p2 = vpy.vector(end[0],end[1],0)\n",
    "  c.append(pos = p1)\n",
    "  c.append(pos = p2)\n",
    "  return\n",
    " dis = div(sub(end,start),3)\n",
    " p1 = add(start,dis)\n",
    " p2 = add(p1,rotate(dis,math.pi / 3.))\n",
    " p3 = sub(end,dis)\n",
    " Knoc(start,p1,depth - 1)\n",
    " Knoc(p1,p2,depth - 1)\n",
    " Knoc(p2,p3,depth - 1)\n",
    " Knoc(p3,end,depth - 1)\n",
    "def draw(shape,depth,core):\n",
    " for i in range(0,len(shape) - 1):\n",
    "  Knoc(shape[i],shape[i + 1],depth)\n",
    " Knoc(shape[len(shape) - 1],shape[0],depth)\n",
    "sqrt3 = math.sqrt(3)\n",
    "triangle = [[-1.,0.],[0.,sqrt3],[1.,0.]]\n",
    "rectangle=[[-1,0],[-1,2],[1,2],[1,0]]\n",
    "draw(rectangle,4,rectangle)\n"
   ]
  },
  {
   "cell_type": "code",
   "execution_count": null,
   "metadata": {},
   "outputs": [],
   "source": []
  }
 ],
 "metadata": {
  "kernelspec": {
   "display_name": "Python 3",
   "language": "python",
   "name": "python3"
  },
  "language_info": {
   "codemirror_mode": {
    "name": "ipython",
    "version": 3
   },
   "file_extension": ".py",
   "mimetype": "text/x-python",
   "name": "python",
   "nbconvert_exporter": "python",
   "pygments_lexer": "ipython3",
   "version": "3.8.3"
  }
 },
 "nbformat": 4,
 "nbformat_minor": 4
}
