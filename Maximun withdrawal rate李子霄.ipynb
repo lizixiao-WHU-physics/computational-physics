{
 "cells": [
  {
   "cell_type": "markdown",
   "metadata": {},
   "source": [
    "Step one: find the Max and Min point of the stock price"
   ]
  },
  {
   "cell_type": "code",
   "execution_count": 25,
   "metadata": {},
   "outputs": [],
   "source": [
    "import pandas as pd\n",
    "import numpy as np\n",
    "import matplotlib.pyplot as plt\n",
    "import matplotlib.animation as animation\n",
    "from matplotlib import style\n",
    "#解决中文问题\n",
    "plt.rcParams['font.sans-serif']=['SimHei']\n",
    "#显示负号\n",
    "plt.rcParams['axes.unicode_minus']=False\n",
    "%matplotlib inline \n",
    "#使图片内嵌交互环境显示"
   ]
  },
  {
   "cell_type": "code",
   "execution_count": 18,
   "metadata": {},
   "outputs": [],
   "source": [
    "fpath=\"./Desktop/量化/task1.xlsx\"\n",
    "data=pd.read_excel(fpath)"
   ]
  },
  {
   "cell_type": "code",
   "execution_count": 19,
   "metadata": {},
   "outputs": [],
   "source": [
    "data['Date']=pd.to_datetime(data['Date'])"
   ]
  },
  {
   "cell_type": "code",
   "execution_count": 43,
   "metadata": {
    "scrolled": true
   },
   "outputs": [
    {
     "name": "stdout",
     "output_type": "stream",
     "text": [
      "最大回撤率(%)为： 24.45\n",
      "最大回撤开始时间为： 2018-05-15 00:00:00\n",
      "最大回撤结束时间为： 2019-01-03 00:00:00\n"
     ]
    }
   ],
   "source": [
    "data['max2here']=data['close'].expanding().max()\n",
    "data['dd2here']=data['close']/data['max2here']\n",
    "end_date,end_date_price,remains=tuple(data.sort_values(by=['dd2here']).iloc[0][['Date','close','dd2here']])\n",
    "start_date,start_date_price=data[data['Date']<=end_date]\\\n",
    ".sort_values(by='close',ascending=False)\\\n",
    ".iloc[0][['Date','close']]\n",
    "print('最大回撤率(%)为：',round((1-remains) * 100,2))\n",
    "print('最大回撤开始时间为：',start_date)\n",
    "print('最大回撤结束时间为：',end_date)"
   ]
  },
  {
   "cell_type": "markdown",
   "metadata": {},
   "source": [
    "Step two：Plot the Max and Min withdrawal point and draw it"
   ]
  },
  {
   "cell_type": "code",
   "execution_count": 44,
   "metadata": {
    "scrolled": false
   },
   "outputs": [
    {
     "data": {
      "image/png": "[encoded data removed]",
      "text/plain": [
       "<Figure size 432x288 with 1 Axes>"
      ]
     },
     "metadata": {
      "needs_background": "light"
     },
     "output_type": "display_data"
    }
   ],
   "source": [
    "x=data['Date']\n",
    "y=data['close']\n",
    "\n",
    "def graph_data():\n",
    " fig = plt.figure()\n",
    " ax = plt.subplot2grid((1,1), (0,0))\n",
    " ax.plot(x,y)\n",
    " ax.annotate('最大回撤起始点',(start_date,start_date_price))\n",
    " ax.annotate('最大回撤终止点',(end_date,end_date_price))\n",
    " plt.show()\n",
    "graph_data()\n",
    "\n"
   ]
  },
  {
   "cell_type": "code",
   "execution_count": 45,
   "metadata": {},
   "outputs": [
    {
     "data": {
      "text/html": [
       "<div>\n",
       "<style scoped>\n",
       "    .dataframe tbody tr th:only-of-type {\n",
       "        vertical-align: middle;\n",
       "    }\n",
       "\n",
       "    .dataframe tbody tr th {\n",
       "        vertical-align: top;\n",
       "    }\n",
       "\n",
       "    .dataframe thead th {\n",
       "        text-align: right;\n",
       "    }\n",
       "</style>\n",
       "<table border=\"1\" class=\"dataframe\">\n",
       "  <thead>\n",
       "    <tr style=\"text-align: right;\">\n",
       "      <th></th>\n",
       "      <th>Date</th>\n",
       "      <th>close</th>\n",
       "      <th>max2here</th>\n",
       "      <th>dd2here</th>\n",
       "    </tr>\n",
       "  </thead>\n",
       "  <tbody>\n",
       "    <tr>\n",
       "      <th>0</th>\n",
       "      <td>2018-05-12</td>\n",
       "      <td>3822.0873</td>\n",
       "      <td>3822.0873</td>\n",
       "      <td>1.000000</td>\n",
       "    </tr>\n",
       "    <tr>\n",
       "      <th>1</th>\n",
       "      <td>2018-05-13</td>\n",
       "      <td>3860.3456</td>\n",
       "      <td>3860.3456</td>\n",
       "      <td>1.000000</td>\n",
       "    </tr>\n",
       "    <tr>\n",
       "      <th>2</th>\n",
       "      <td>2018-05-14</td>\n",
       "      <td>3921.2345</td>\n",
       "      <td>3921.2345</td>\n",
       "      <td>1.000000</td>\n",
       "    </tr>\n",
       "    <tr>\n",
       "      <th>3</th>\n",
       "      <td>2018-05-15</td>\n",
       "      <td>3924.0975</td>\n",
       "      <td>3924.0975</td>\n",
       "      <td>1.000000</td>\n",
       "    </tr>\n",
       "    <tr>\n",
       "      <th>4</th>\n",
       "      <td>2018-05-16</td>\n",
       "      <td>3892.8442</td>\n",
       "      <td>3924.0975</td>\n",
       "      <td>0.992036</td>\n",
       "    </tr>\n",
       "    <tr>\n",
       "      <th>...</th>\n",
       "      <td>...</td>\n",
       "      <td>...</td>\n",
       "      <td>...</td>\n",
       "      <td>...</td>\n",
       "    </tr>\n",
       "    <tr>\n",
       "      <th>263</th>\n",
       "      <td>2019-06-10</td>\n",
       "      <td>3610.7435</td>\n",
       "      <td>4120.6078</td>\n",
       "      <td>0.876265</td>\n",
       "    </tr>\n",
       "    <tr>\n",
       "      <th>264</th>\n",
       "      <td>2019-06-11</td>\n",
       "      <td>3719.2759</td>\n",
       "      <td>4120.6078</td>\n",
       "      <td>0.902604</td>\n",
       "    </tr>\n",
       "    <tr>\n",
       "      <th>265</th>\n",
       "      <td>2019-06-12</td>\n",
       "      <td>3691.0957</td>\n",
       "      <td>4120.6078</td>\n",
       "      <td>0.895765</td>\n",
       "    </tr>\n",
       "    <tr>\n",
       "      <th>266</th>\n",
       "      <td>2019-06-13</td>\n",
       "      <td>3685.3933</td>\n",
       "      <td>4120.6078</td>\n",
       "      <td>0.894381</td>\n",
       "    </tr>\n",
       "    <tr>\n",
       "      <th>267</th>\n",
       "      <td>2019-06-14</td>\n",
       "      <td>3685.3933</td>\n",
       "      <td>4120.6078</td>\n",
       "      <td>0.894381</td>\n",
       "    </tr>\n",
       "  </tbody>\n",
       "</table>\n",
       "<p>268 rows × 4 columns</p>\n",
       "</div>"
      ],
      "text/plain": [
       "          Date      close   max2here   dd2here\n",
       "0   2018-05-12  3822.0873  3822.0873  1.000000\n",
       "1   2018-05-13  3860.3456  3860.3456  1.000000\n",
       "2   2018-05-14  3921.2345  3921.2345  1.000000\n",
       "3   2018-05-15  3924.0975  3924.0975  1.000000\n",
       "4   2018-05-16  3892.8442  3924.0975  0.992036\n",
       "..         ...        ...        ...       ...\n",
       "263 2019-06-10  3610.7435  4120.6078  0.876265\n",
       "264 2019-06-11  3719.2759  4120.6078  0.902604\n",
       "265 2019-06-12  3691.0957  4120.6078  0.895765\n",
       "266 2019-06-13  3685.3933  4120.6078  0.894381\n",
       "267 2019-06-14  3685.3933  4120.6078  0.894381\n",
       "\n",
       "[268 rows x 4 columns]"
      ]
     },
     "execution_count": 45,
     "metadata": {},
     "output_type": "execute_result"
    }
   ],
   "source": [
    "data"
   ]
  },
  {
   "cell_type": "code",
   "execution_count": null,
   "metadata": {},
   "outputs": [],
   "source": []
  }
 ],
 "metadata": {
  "kernelspec": {
   "display_name": "Python 3",
   "language": "python",
   "name": "python3"
  },
  "language_info": {
   "codemirror_mode": {
    "name": "ipython",
    "version": 3
   },
   "file_extension": ".py",
   "mimetype": "text/x-python",
   "name": "python",
   "nbconvert_exporter": "python",
   "pygments_lexer": "ipython3",
   "version": "3.8.3"
  }
 },
 "nbformat": 4,
 "nbformat_minor": 4
}
