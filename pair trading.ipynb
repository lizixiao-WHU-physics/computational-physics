{
 "cells": [
  {
   "cell_type": "markdown",
   "metadata": {},
   "source": [
    "pair trading\n",
    "两个相关的股票\n",
    "任务一：了解美股股票代码\n",
    "假设基础：Corelation的异常，会回归正常值\n",
    "mean reverse"
   ]
  },
  {
   "cell_type": "markdown",
   "metadata": {},
   "source": [
    "long/short"
   ]
  },
  {
   "cell_type": "markdown",
   "metadata": {},
   "source": [
    "任务二：了解close_price和price的区别"
   ]
  },
  {
   "cell_type": "markdown",
   "metadata": {},
   "source": [
    "united airline\n",
    "american airline\n",
    "任务三：在jupyter复现quantopian\n",
    "任务四：在美股找十对一年内correlation达75%以上的对\n",
    "任务五：了解pandas"
   ]
  },
  {
   "cell_type": "code",
   "execution_count": null,
   "metadata": {},
   "outputs": [],
   "source": []
  }
 ],
 "metadata": {
  "kernelspec": {
   "display_name": "Python 3",
   "language": "python",
   "name": "python3"
  },
  "language_info": {
   "codemirror_mode": {
    "name": "ipython",
    "version": 3
   },
   "file_extension": ".py",
   "mimetype": "text/x-python",
   "name": "python",
   "nbconvert_exporter": "python",
   "pygments_lexer": "ipython3",
   "version": "3.8.3"
  }
 },
 "nbformat": 4,
 "nbformat_minor": 4
}
