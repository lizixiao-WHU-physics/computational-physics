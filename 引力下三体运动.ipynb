{
 "cells": [
  {
   "cell_type": "code",
   "execution_count": 4,
   "metadata": {},
   "outputs": [],
   "source": [
    "import matplotlib.pyplot as plt\n",
    "import numpy as np\n",
    "from numba import njit"
   ]
  },
  {
   "cell_type": "code",
   "execution_count": 119,
   "metadata": {},
   "outputs": [],
   "source": [
    "sun_m=15\n",
    "earth_m=12\n",
    "jupiter_m=8\n",
    "#定义星球质量\n",
    "earth_x=1.0\n",
    "earth_y=0.0\n",
    "jupiter_x=4/1.5\n",
    "jupiter_y=4*np.sqrt(3)/1.5\n",
    "#日木距离比地日距离大概为8:1.5\n",
    "sun_x=-(jupiter_m*jupiter_x+earth_m*earth_x)/sun_m\n",
    "sun_y=-(jupiter_m*jupiter_y+earth_m*earth_y)/sun_m\n",
    "#三者质心在原点\n",
    "earth_v_y=2*np.pi\n",
    "earth_v_x=0.0\n",
    "jupiter_v_x=1\n",
    "jupiter_v_y=1\n",
    "sun_v_x=-(earth_m*earth_v_x+jupiter_m*jupiter_v_x)/sun_m\n",
    "sun_v_y=-(earth_m*earth_v_y+jupiter_m*jupiter_v_y)/sun_m\n",
    "#系统总动量为零\n",
    "earth_x_list=[]\n",
    "earth_y_list=[]\n",
    "earth_v_x_list=[]\n",
    "earth_v_y_list=[]\n",
    "jupiter_x_list=[]\n",
    "jupiter_y_list=[]\n",
    "jupiter_v_x_list=[]\n",
    "jupiter_v_y_list=[]\n",
    "sun_x_list=[]\n",
    "sun_y_list=[]\n",
    "sun_v_x_list=[]\n",
    "sun_v_y_list=[]\n",
    "#设定数组储存计算值\n",
    "dt=0.02\n",
    "n=100000\n",
    "time=0.00\n",
    "time_list=[]\n",
    "#时间步长为0.02"
   ]
  },
  {
   "cell_type": "code",
   "execution_count": 117,
   "metadata": {},
   "outputs": [],
   "source": [
    "\n",
    "for i in range(n):\n",
    "    sun_earth=np.sqrt((sun_x-earth_x)**2+(sun_y-earth_y)**2)\n",
    "    sun_jupiter=np.sqrt((sun_x-jupiter_x)**2+(sun_y-jupiter_y)**2)\n",
    "    earth_jupiter=np.sqrt((earth_x-jupiter_x)**2+(earth_y-jupiter_y)**2)\n",
    "    earth_v_x=earth_v_x-sun_m*(earth_x-sun_x)*dt/((sun_earth)**3)-jupiter_m*(earth_x-jupiter_x)*dt/((earth_jupiter)**3)\n",
    "    earth_v_y=earth_v_y-sun_m*(earth_y-sun_y)*dt/((sun_earth)**3)-jupiter_m*(earth_y-jupiter_y)*dt/((earth_jupiter)**3)\n",
    "    jupiter_v_x=jupiter_v_x-sun_m*(jupiter_x-sun_x)*dt/((sun_jupiter)**3)-earth_m*(jupiter_x-earth_x)*dt/((earth_jupiter)**3)\n",
    "    jupiter_v_y=jupiter_v_y-sun_m*(jupiter_y-sun_y)*dt/((sun_jupiter)**3)-earth_m*(jupiter_y-earth_y)*dt/((earth_jupiter)**3)\n",
    "    sun_v_x=sun_v_x-earth_m*(sun_x-earth_x)*dt/((sun_earth)**3)-jupiter_m*(sun_x-jupiter_x)*dt/((sun_jupiter)**3)\n",
    "    sun_v_y=sun_v_y-earth_m*(sun_y-earth_y)*dt/((sun_earth)**3)-jupiter_m*(sun_y-jupiter_y)*dt/((sun_jupiter)**3)\n",
    "    earth_x=earth_x+earth_v_x*dt\n",
    "    earth_y=earth_y+earth_v_y*dt\n",
    "    jupiter_x=jupiter_x+jupiter_v_x*dt\n",
    "    jupiter_y=jupiter_y+jupiter_v_y*dt\n",
    "    sun_x=sun_x+sun_v_x*dt\n",
    "    sun_y=sun_y+sun_v_y*dt\n",
    "    earth_x_list.append(earth_x)\n",
    "    earth_y_list.append(earth_y)\n",
    "    jupiter_x_list.append(jupiter_x)\n",
    "    jupiter_y_list.append(jupiter_y)\n",
    "    sun_x_list.append(sun_x)\n",
    "    sun_y_list.append(sun_y)\n",
    "    earth_v_x_list.append(earth_v_x)\n",
    "    earth_v_y_list.append(earth_v_y)\n",
    "    jupiter_v_x_list.append(jupiter_v_x)\n",
    "    jupiter_v_y_list.append(jupiter_v_y)\n",
    "    sun_v_x_list.append(sun_v_x)\n",
    "    sun_v_y_list.append(sun_v_y)\n",
    "    time=time+dt\n",
    "    time_list.append(time)\n"
   ]
  },
  {
   "cell_type": "code",
   "execution_count": 118,
   "metadata": {},
   "outputs": [
    {
     "data": {
      "text/plain": [
       "[<matplotlib.lines.Line2D at 0x1fb0862e130>]"
      ]
     },
     "execution_count": 118,
     "metadata": {},
     "output_type": "execute_result"
    },
    {
     "data": {
      "image/png": "[encoded data removed]",
      "text/plain": [
       "<Figure size 432x288 with 1 Axes>"
      ]
     },
     "metadata": {
      "needs_background": "light"
     },
     "output_type": "display_data"
    }
   ],
   "source": [
    "plt.plot(jupiter_x_list,jupiter_y_list)"
   ]
  },
  {
   "cell_type": "code",
   "execution_count": 100,
   "metadata": {},
   "outputs": [
    {
     "data": {
      "text/plain": [
       "3.141592653589793"
      ]
     },
     "execution_count": 100,
     "metadata": {},
     "output_type": "execute_result"
    }
   ],
   "source": [
    "np.pi"
   ]
  },
  {
   "cell_type": "code",
   "execution_count": null,
   "metadata": {},
   "outputs": [],
   "source": []
  },
  {
   "cell_type": "code",
   "execution_count": null,
   "metadata": {},
   "outputs": [],
   "source": []
  }
 ],
 "metadata": {
  "kernelspec": {
   "display_name": "Python 3",
   "language": "python",
   "name": "python3"
  },
  "language_info": {
   "codemirror_mode": {
    "name": "ipython",
    "version": 3
   },
   "file_extension": ".py",
   "mimetype": "text/x-python",
   "name": "python",
   "nbconvert_exporter": "python",
   "pygments_lexer": "ipython3",
   "version": "3.8.3"
  }
 },
 "nbformat": 4,
 "nbformat_minor": 4
}
