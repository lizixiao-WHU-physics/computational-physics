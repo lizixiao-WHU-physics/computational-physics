{
 "cells": [
  {
   "cell_type": "code",
   "execution_count": 1,
   "metadata": {},
   "outputs": [],
   "source": [
    "#李子霄 2017301020223 第三次作业"
   ]
  },
  {
   "cell_type": "code",
   "execution_count": 35,
   "metadata": {},
   "outputs": [],
   "source": [
    "import time\n",
    "import math\n",
    "import numpy as np\n",
    "import time\n",
    "import sympy\n",
    "import numba\n",
    "from numba import jit\n",
    "from sympy import *\n",
    "import matplotlib as mpl\n",
    "import matplotlib.pyplot as plt"
   ]
  },
  {
   "cell_type": "markdown",
   "metadata": {},
   "source": [
    "作业一"
   ]
  },
  {
   "cell_type": "code",
   "execution_count": 32,
   "metadata": {},
   "outputs": [
    {
     "name": "stdout",
     "output_type": "stream",
     "text": [
      "9.787508\n",
      "9.787506\n"
     ]
    },
    {
     "data": {
      "text/plain": [
       "0.0020008087158203125"
      ]
     },
     "execution_count": 32,
     "metadata": {},
     "output_type": "execute_result"
    }
   ],
   "source": [
    "start_time=time.time()\n",
    "N=10000\n",
    "s1 = np.arange(1,N,dtype=np.float32) #产⽣[1,...,99]的单精度浮点数队列\n",
    "s_up = 1 / s1\n",
    "s_up_sum = s_up.sum()\n",
    "\n",
    "s2 = np.arange(N-1,0,-1,dtype=np.float32) #产⽣[99,...,1]的单精度浮点数队列\n",
    "s_down = 1 / s2\n",
    "s_down_sum = s_down.sum()\n",
    "print(s_up_sum)\n",
    "print(s_down_sum)\n",
    "end_time=time.time()\n",
    "total_time=end_time-start_time\n",
    "total_time"
   ]
  },
  {
   "cell_type": "markdown",
   "metadata": {},
   "source": [
    "用numpy改写的计算花费时间为0.002000"
   ]
  },
  {
   "cell_type": "code",
   "execution_count": 31,
   "metadata": {},
   "outputs": [
    {
     "name": "stdout",
     "output_type": "stream",
     "text": [
      "9.787506036044348\n",
      "9.787506036044386\n"
     ]
    },
    {
     "data": {
      "text/plain": [
       "0.007010221481323242"
      ]
     },
     "execution_count": 31,
     "metadata": {},
     "output_type": "execute_result"
    }
   ],
   "source": [
    "start_time_2=time.time()\n",
    "N=10000\n",
    "s_up=float(0)\n",
    "for n in range(1,N):#这表示从1到9999\n",
    "    s_up+=float(1/n)\n",
    "s_down=float(0)\n",
    "for n in range(N-1,0,-1):#这表示从9999到1\n",
    "    s_down+=float(1/n)\n",
    "print(s_up)\n",
    "print(s_down)\n",
    "end_time_2=time.time()\n",
    "total_time_2=end_time_2-start_time_2\n",
    "total_time_2"
   ]
  },
  {
   "cell_type": "markdown",
   "metadata": {},
   "source": [
    "不用numpy而是使用自带的float型的话用时0.007010,比numpy慢三倍；我认为\n",
    "\n",
    "np.arange(1,N,dtype=np.float32)\n",
    "\n",
    "这个语句还是拖慢了计算速度，接下来删掉这一句再来比较用时"
   ]
  },
  {
   "cell_type": "code",
   "execution_count": 33,
   "metadata": {},
   "outputs": [
    {
     "name": "stdout",
     "output_type": "stream",
     "text": [
      "9.787506036044384\n",
      "9.787506036044382\n"
     ]
    },
    {
     "data": {
      "text/plain": [
       "0.0010004043579101562"
      ]
     },
     "execution_count": 33,
     "metadata": {},
     "output_type": "execute_result"
    }
   ],
   "source": [
    "start_time=time.time()\n",
    "N=10000\n",
    "s1 = np.arange(1,N) #产⽣[1,...,99]的单精度浮点数队列\n",
    "s_up = 1 / s1\n",
    "s_up_sum = s_up.sum()\n",
    "\n",
    "s2 = np.arange(N-1,0,-1) #产⽣[99,...,1]的单精度浮点数队列\n",
    "s_down = 1 / s2\n",
    "s_down_sum = s_down.sum()\n",
    "print(s_up_sum)\n",
    "print(s_down_sum)\n",
    "end_time=time.time()\n",
    "total_time=end_time-start_time\n",
    "total_time"
   ]
  },
  {
   "cell_type": "markdown",
   "metadata": {},
   "source": [
    "果然，删掉\n",
    "\n",
    "np.arange(N-1,0,-1,dtype=np.float32)\n",
    "\n",
    "中的\n",
    "\n",
    "dtype=np.float32\n",
    "\n",
    "还能加快一倍速度；但是这其实有点违背计算的本意，把s_up单独的每项不按浮点数计，最好不要删掉...\n",
    "\n",
    "这说明有比for语句更优的遍历方法"
   ]
  },
  {
   "cell_type": "markdown",
   "metadata": {},
   "source": [
    "作业二"
   ]
  },
  {
   "cell_type": "code",
   "execution_count": 167,
   "metadata": {},
   "outputs": [],
   "source": [
    "@jit(nopython=True)\n",
    "def getnext_sin(x,a,n):\n",
    "    nexta=numba.float32(-x**2/((2*n-1)*(2*n-2))*a)\n",
    "    return nexta\n",
    "#sin的递推公式"
   ]
  },
  {
   "cell_type": "code",
   "execution_count": 168,
   "metadata": {},
   "outputs": [],
   "source": [
    "N=10000\n",
    "@jit(nopython=True)\n",
    "def summation_sin(x):\n",
    "    a=x\n",
    "    sers=x\n",
    "    for n in range(2,N+1):\n",
    "        sers+=np.float32(getnext_sin(x,a,n))\n",
    "        a=np.float32(getnext_sin(x,a,n))\n",
    "    if np.absolute(sers-np.sin(x))<10**-5:\n",
    "        gx=x\n",
    "        cor=sers\n",
    "    return sers\n",
    "#sin的泰勒展开"
   ]
  },
  {
   "cell_type": "code",
   "execution_count": 190,
   "metadata": {},
   "outputs": [],
   "source": [
    "@jit(nopython=True)\n",
    "def getnext_cos(x,a,n):\n",
    "    nexta=numba.float32(-x**2/((2*n-1)*(2*n-2))*a)\n",
    "    return nexta\n",
    "#cos的递推公式"
   ]
  },
  {
   "cell_type": "code",
   "execution_count": 191,
   "metadata": {},
   "outputs": [],
   "source": [
    "N=10000\n",
    "@jit(nopython=True)\n",
    "def summation_cos(x):\n",
    "    a=1\n",
    "    sers=1\n",
    "    for n in range(2,N+1):\n",
    "        sers+=np.float32(getnext_cos(x,a,n))\n",
    "        a=np.float32(getnext_cos(x,a,n))\n",
    "    if np.absolute(sers-np.sin(x))<10**-5:\n",
    "        gx=x\n",
    "        cor=sers\n",
    "    return sers\n",
    "#cos的泰勒展开"
   ]
  },
  {
   "cell_type": "code",
   "execution_count": 195,
   "metadata": {},
   "outputs": [],
   "source": [
    "#定义主函数，以任意角度值为输入\n",
    "def main(x):\n",
    "  if x>=0:\n",
    "    if float(x-int(x/2/np.pi)*2*pi)>=0 and float(x-int(x/2/np.pi)*2*pi)<=float(np.pi/2):\n",
    "        print(summation_sin(x))\n",
    "    if float(x-int(x/2/np.pi)*2*pi)>=float(np.pi/2) and float(x-int(x/2/np.pi)*2*pi)<=float(np.pi):\n",
    "        print(summation_cos(x-np.pi/2))\n",
    "    if float(x-int(x/2/np.pi)*2*pi)>=float(np.pi) and float(x-int(x/2/np.pi)*2*pi)<=float(3*np.pi/2):\n",
    "        print(-summation_sin(x-np.pi))\n",
    "    if float(x-int(x/2/np.pi)*2*pi)>=float(3*np.pi/2) and float(x-int(x/2/np.pi)*2*pi)<=float(2*np.pi):\n",
    "        print(-summation_cos(x-3/2*np.pi))\n",
    "  if x<0:#如果输入的弧度值小于0，取其绝对值\n",
    "    x=np.absolute(x)\n",
    "    if float(x-int(x/2/np.pi)*2*pi)>=0 and float(x-int(x/2/np.pi)*2*pi)<=float(np.pi/2):\n",
    "        print(-summation_sin(x))\n",
    "    if float(x-int(x/2/np.pi)*2*pi)>=float(np.pi/2) and float(x-int(x/2/np.pi)*2*pi)<=float(np.pi):\n",
    "        print(-summation_cos(x-np.pi/2))\n",
    "    if float(x-int(x/2/np.pi)*2*pi)>=float(np.pi) and float(x-int(x/2/np.pi)*2*pi)<=float(3*np.pi/2):\n",
    "        print(summation_sin(x-np.pi))\n",
    "    if float(x-int(x/2/np.pi)*2*pi)>=float(3*np.pi/2) and float(x-int(x/2/np.pi)*2*pi)<=float(2*np.pi):\n",
    "        print(summation_cos(x-3/2*np.pi))"
   ]
  },
  {
   "cell_type": "markdown",
   "metadata": {},
   "source": [
    "思路：\n",
    "\n",
    "（1）先区分输入值为正还是为负，再把任何一个输入的弧度值加减2*pi的整数倍，移动到0至2*pi范围内，即先取弧度绝对值，再减去2*pi的整数倍；\n",
    "\n",
    "（2）在（0,pi/2）范围内用sin(x)计算\n",
    "\n",
    "（3）在（pi/2,pi）范围内用cos（x-pi/2）计算\n",
    "\n",
    "（4）在(pi,3/2*pi)范围内用-sin(x-pi)计算\n",
    "\n",
    "（5）在（3，2*pi）范围内用-cos(x-3/2*pi)计算"
   ]
  },
  {
   "cell_type": "code",
   "execution_count": 196,
   "metadata": {},
   "outputs": [
    {
     "name": "stdout",
     "output_type": "stream",
     "text": [
      "-0.8414709802583705\n"
     ]
    }
   ],
   "source": [
    "main(-1)"
   ]
  },
  {
   "cell_type": "code",
   "execution_count": null,
   "metadata": {},
   "outputs": [],
   "source": []
  },
  {
   "cell_type": "code",
   "execution_count": null,
   "metadata": {},
   "outputs": [],
   "source": []
  },
  {
   "cell_type": "code",
   "execution_count": null,
   "metadata": {},
   "outputs": [],
   "source": []
  }
 ],
 "metadata": {
  "kernelspec": {
   "display_name": "Python 3",
   "language": "python",
   "name": "python3"
  },
  "language_info": {
   "codemirror_mode": {
    "name": "ipython",
    "version": 3
   },
   "file_extension": ".py",
   "mimetype": "text/x-python",
   "name": "python",
   "nbconvert_exporter": "python",
   "pygments_lexer": "ipython3",
   "version": "3.8.3"
  }
 },
 "nbformat": 4,
 "nbformat_minor": 4
}
